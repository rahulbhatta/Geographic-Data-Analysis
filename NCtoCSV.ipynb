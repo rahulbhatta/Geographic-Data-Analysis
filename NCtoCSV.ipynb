{
 "cells": [
  {
   "cell_type": "markdown",
   "metadata": {},
   "source": [
    "In this notebook, we shall convert understand the variables, their types, and relations/dimensions with other variables in an .NC file and store it in a dataframe to convert it to .CSV format."
   ]
  },
  {
   "cell_type": "code",
   "execution_count": 4,
   "metadata": {},
   "outputs": [
    {
     "name": "stdout",
     "output_type": "stream",
     "text": [
      "<type 'netCDF4._netCDF4.Dataset'>\n",
      "root group (NETCDF4_CLASSIC data model, file format HDF5):\n",
      "    Conventions: CF-1.0\n",
      "    curator: Dr. Jian-Jian Wang\n",
      "ESSIC, University of Maryland College Park\n",
      "College Park, MD  20742  USA\n",
      "Phone: +1 301-405-4887\n",
      "    citation: Adler, R.F., G.J. Huffman, A. Chang, R. Ferraro, P. Xie, J. Janowiak, B. \n",
      "Rudolf, U. Schneider, S. Curtis, D. Bolvin, A. Gruber, J. Susskind, P. \n",
      "Arkin, 2003: The Version 2 Global Precipitation Climatology Project \n",
      "(GPCP) Monthly Precipitation Analysis (1979 - Present). J. Hydrometeor., \n",
      "4(6), 1147-1167.\n",
      "    title: GPCP Version 2.3 Combined Precipitation Dataset (Final)\n",
      "    platform: NOAA POES (Polar Orbiting Environmental Satellites)\n",
      "    source_obs: CDR RSS SSMI/SSMIS Tbs over ocean \n",
      "CDR SSMI/SSMIS rainrates over land (Ferraro) \n",
      "Geo-IR (Xie) calibrated by SSMI/SSMIS rainrates for sampling \n",
      "TOVS/AIRS empirical precipitation estimates at higher latitudes \n",
      "(ocean and land) \n",
      "GPCC gauge analysis to bias correct satellite estimates over land and \n",
      "merge with satellite based on sampling \n",
      "OLR Precipitation Index (OPI) (Xie) used for period before 1988\n",
      "    documentation: http://www.esrl.noaa.gov/psd/data/gridded/data.gpcp.html\n",
      "    version: V2.3\n",
      "    Acknowledgement: \n",
      "\n",
      "    contributor_name: Robert Adler    University of Maryland \n",
      "George Huffman  NASA Goddard Space Flight Center \n",
      "David Bolvin    NASA Goddard Space Flight Center/SSAI \n",
      "Eric Nelkin     NASA Goddard Space Flight Center/SSAI \n",
      "Udo Schneider   GPCC, Deutscher Wetterdienst \n",
      "Andreas Becker  GPCC, Deutscher Wetterdienst \n",
      "Long Chiu       George Mason University \n",
      "Mathew Sapiano  University of Maryland \n",
      "Pingping Xie    Climate Prediction Center, NWS, NOAA \n",
      "Ralph Ferraro   NESDIS, NOAA \n",
      "Jian-Jian Wang  University of Maryland \n",
      "Guojun Gu       University of Maryland\n",
      "    References: http://www.esrl.noaa.gov/psd/data/gridded/data.gpcp.html\n",
      "    dataset_title: Global Precipitation Climatology Project (GPCP) Monthly Analysis Product\n",
      "    description: https://data.nodc.noaa.gov/cgi-bin/iso?id=gov.noaa.ncdc:C00970\n",
      "    source: https://www.ncei.noaa.gov/data/global-precipitation-climatology-project-gpcp-monthly/access/\n",
      "    source_documentation: https://www.ncdc.noaa.gov/cdr/atmospheric/precipitation-gpcp-monthly\n",
      "    NCO: 4.6.9\n",
      "    history: Generated at NOAA/ESRL PSD Sep 9 2016 based on data from source \n",
      "and stored in single netCDF4 file\n",
      "    data_comment: Interim data covers 2018/10 through latest.\n",
      "    dimensions(sizes): lat(72), lon(144), time(479), nv(2)\n",
      "    variables(dimensions): float32 \u001b[4mlat\u001b[0m(lat), float32 \u001b[4mlon\u001b[0m(lon), float32 \u001b[4mtime_bnds\u001b[0m(time,nv), float32 \u001b[4mlat_bnds\u001b[0m(lat,nv), float32 \u001b[4mlon_bnds\u001b[0m(lon,nv), float32 \u001b[4mprecip\u001b[0m(time,lat,lon), float64 \u001b[4mtime\u001b[0m(time)\n",
      "    groups: \n",
      "\n"
     ]
    }
   ],
   "source": [
    "#include relevant libraries\n",
    "import pandas as pd\n",
    "from netCDF4 import Dataset\n",
    "from netCDF4 import MFDataset\n",
    "dataset=Dataset('precip.mon.mean.nc')\n",
    "print(dataset)  #get dataset info - variables and types and dimensions"
   ]
  },
  {
   "cell_type": "code",
   "execution_count": 3,
   "metadata": {},
   "outputs": [
    {
     "name": "stdout",
     "output_type": "stream",
     "text": [
      "479\n",
      "479\n"
     ]
    }
   ],
   "source": [
    "f = MFDataset(\"precip.mon.mean.nc\")\n",
    "print(len(f.variables[\"precip\"][:])) #find the length of the variable array\n",
    "print(len(f.variables[\"time\"][:]))"
   ]
  },
  {
   "cell_type": "code",
   "execution_count": null,
   "metadata": {},
   "outputs": [],
   "source": [
    "time = f.variables[\"time\"][:5]    #define small arrays to store a sample\n",
    "lati=f.variables[\"lat\"][:5]       #of the data\n",
    "longi=f.variables[\"lon\"][:5]\n",
    "P=T=La=Lo=[]\n",
    "i=a=b=c=0"
   ]
  },
  {
   "cell_type": "code",
   "execution_count": null,
   "metadata": {},
   "outputs": [],
   "source": [
    "for a in range(5):\n",
    "    \n",
    "    for b in range(5):\n",
    "        \n",
    "        for c in range(5):\n",
    "            T.insert(i, time[a])\n",
    "            La.insert(i, lati[b])\n",
    "            Lo.insert(i, longi[c])\n",
    "            P.insert(i, f.variables[\"precip\"][a][b][c]) \n",
    "            #insert precipitation values that vary with latitude, longitude\n",
    "            # and time into the Precipitation array\n",
    "            c=c+1\n",
    "            i=i+1\n",
    "        b=b+1\n",
    "    a=a+1\n",
    "    \n",
    "#convert precipitation array to dataframe    \n",
    "df = pd.DataFrame({\"Precipitation\" : P, \"Time\" : T, \"Latitude\" : La, \"Longitude\" : Lo})\n",
    "#convert dataframe to .csv file\n",
    "df.to_csv(r'D:\\Internship\\RealtimeData', index=False)\n",
    "\n"
   ]
  },
  {
   "cell_type": "code",
   "execution_count": null,
   "metadata": {},
   "outputs": [],
   "source": []
  }
 ],
 "metadata": {
  "kernelspec": {
   "display_name": "Python 2",
   "language": "python",
   "name": "python2"
  },
  "language_info": {
   "codemirror_mode": {
    "name": "ipython",
    "version": 2
   },
   "file_extension": ".py",
   "mimetype": "text/x-python",
   "name": "python",
   "nbconvert_exporter": "python",
   "pygments_lexer": "ipython2",
   "version": "2.7.15"
  }
 },
 "nbformat": 4,
 "nbformat_minor": 2
}
